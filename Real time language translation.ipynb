{
 "cells": [
  {
   "cell_type": "code",
   "execution_count": null,
   "metadata": {},
   "outputs": [],
   "source": []
  },
  {
   "cell_type": "code",
   "execution_count": null,
   "metadata": {},
   "outputs": [],
   "source": [
    "!pip install pipwin"
   ]
  },
  {
   "cell_type": "code",
   "execution_count": null,
   "metadata": {},
   "outputs": [],
   "source": [
    "!pipwin install pyaudio\n",
    "!pip install SpeechRecognition\n",
    "!pip install googletrans\n",
    "!pip install gTTS"
   ]
  },
  {
   "cell_type": "code",
   "execution_count": 27,
   "metadata": {},
   "outputs": [
    {
     "name": "stdout",
     "output_type": "stream",
     "text": [
      "Speak 'Hello' to initiate the Translation!\n",
      "----------------------------\n",
      "Speak a sentence...\n",
      "Phrase to be Tranlated: I like coffee I like coffee\n"
     ]
    }
   ],
   "source": [
    "\n",
    "#!python3 -m pip install pyaudio\n",
    "#!pip install PyAudio\n",
    "#!sudo apt-get install libportaudio-dev\n",
    "#!sudo apt-get install portaudio19-dev\n",
    "#Import Necessary Libraries\n",
    "import speech_recognition as spr\n",
    "from googletrans import Translator\n",
    "from gtts import gTTS\n",
    "import os\n",
    "\n",
    "#Create Recognizer() class objects called recog1 and recog2\n",
    "recog1 = spr.Recognizer()\n",
    "recog2 = spr.Recognizer()\n",
    "\n",
    "#Create microphone instance with device microphone chosen whose index value is 0\n",
    "mc = spr.Microphone(device_index=0)\n",
    "\n",
    "#Capture voice\n",
    "with mc as source:\n",
    "    print(\"Speak 'Hello' to initiate the Translation!\")\n",
    "    print(\"----------------------------\")\n",
    "    audio = recog1.listen(source)\n",
    "\n",
    "#Based on speech, tranlate the sentence into another language\n",
    "if 'hello' in recog1.recognize_google(audio):   #recognize_google = converts speech to text\n",
    "    recog1 = spr.Recognizer()\n",
    "    translator = Translator()\n",
    "    from_lang = 'en'\n",
    "    to_lang = 'fr'\n",
    "    with mc as source:\n",
    "        print('Speak a sentence...')\n",
    "        audio = recog2.listen(source)\n",
    "        get_sentence = recog2.recognize_google(audio)\n",
    "        \n",
    "        try:\n",
    "            get_sentence = recog2.recognize_google(audio)\n",
    "            print('Phrase to be Tranlated: '+ get_sentence)\n",
    "            text_to_translate = translator.translate(get_sentence, src = from_lang, dest = to_lang)\n",
    "            text = text_to_translate.text\n",
    "            speak = gTTS(text=text, lang = to_lang, slow = False)\n",
    "            speak.save(\"captured_voice.mp3\")\n",
    "            os.system(\"start captured_voice.mp3\")        #start = starts the audio\n",
    "        except spr.UnknownValueError:\n",
    "            print(\"Unable to understand the input\")\n",
    "        except spr.RequestError as e:\n",
    "            print(\"Unable to provide required output\".format(e))\n",
    "\n"
   ]
  },
  {
   "cell_type": "code",
   "execution_count": null,
   "metadata": {},
   "outputs": [],
   "source": [
    "#Check what all languages are supported\n",
    "import googletrans\n",
    "print(googletrans.LANGUAGES)\n"
   ]
  },
  {
   "cell_type": "code",
   "execution_count": null,
   "metadata": {},
   "outputs": [],
   "source": []
  }
 ],
 "metadata": {
  "kernelspec": {
   "display_name": "Python 3",
   "language": "python",
   "name": "python3"
  },
  "language_info": {
   "codemirror_mode": {
    "name": "ipython",
    "version": 3
   },
   "file_extension": ".py",
   "mimetype": "text/x-python",
   "name": "python",
   "nbconvert_exporter": "python",
   "pygments_lexer": "ipython3",
   "version": "3.7.6"
  }
 },
 "nbformat": 4,
 "nbformat_minor": 4
}
